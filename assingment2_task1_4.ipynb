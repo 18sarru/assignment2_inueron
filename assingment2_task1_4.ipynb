{
 "cells": [
  {
   "cell_type": "code",
   "execution_count": 4,
   "metadata": {},
   "outputs": [],
   "source": [
    "def longest_word(lst):\n",
    "    longest=\"\"\n",
    "    long_n=0\n",
    "    for i in lst:\n",
    "        m=len(i)\n",
    "        if(m>long_n):\n",
    "            long_n=m\n",
    "            longest=i\n",
    "    return longest\n",
    "\n"
   ]
  },
  {
   "cell_type": "code",
   "execution_count": 7,
   "metadata": {},
   "outputs": [
    {
     "name": "stdout",
     "output_type": "stream",
     "text": [
      "enter the number of words 5\n",
      "enter a word word\n",
      "enter a word letter\n",
      "enter a word search\n",
      "enter a word long\n",
      "enter a word longest\n",
      "\n",
      "\n",
      "longest word in the list is longest\n"
     ]
    }
   ],
   "source": [
    "n=int(input(\"enter the number of words \"))\n",
    "input_lst=[]\n",
    "for i in range(0,n):\n",
    "    ele=input(\"enter a word \")\n",
    "    input_lst.append(ele)\n",
    "\n",
    "print(\"\\n\\nlongest word in the list is \" + longest_word(input_lst))"
   ]
  },
  {
   "cell_type": "code",
   "execution_count": null,
   "metadata": {},
   "outputs": [],
   "source": []
  }
 ],
 "metadata": {
  "kernelspec": {
   "display_name": "Python 3",
   "language": "python",
   "name": "python3"
  },
  "language_info": {
   "codemirror_mode": {
    "name": "ipython",
    "version": 3
   },
   "file_extension": ".py",
   "mimetype": "text/x-python",
   "name": "python",
   "nbconvert_exporter": "python",
   "pygments_lexer": "ipython3",
   "version": "3.7.6"
  }
 },
 "nbformat": 4,
 "nbformat_minor": 4
}
