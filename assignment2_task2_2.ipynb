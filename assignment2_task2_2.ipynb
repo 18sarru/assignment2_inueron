{
 "cells": [
  {
   "cell_type": "code",
   "execution_count": 5,
   "metadata": {},
   "outputs": [],
   "source": [
    "def filter_long_words (l,n):\n",
    "    x=[]\n",
    "    for i in l:\n",
    "        m=len(i)\n",
    "        if m>n:\n",
    "            x.append(i)\n",
    "    return x\n"
   ]
  },
  {
   "cell_type": "code",
   "execution_count": 6,
   "metadata": {},
   "outputs": [
    {
     "name": "stdout",
     "output_type": "stream",
     "text": [
      "Enter number of elements : 6\n",
      "enter a word word\n",
      "enter a word length\n",
      "enter a word done\n",
      "enter a word larger\n",
      "enter a word happy\n",
      "enter a word success\n",
      "enter the number 4\n",
      "\n",
      "the list required is ['length', 'larger', 'happy', 'success']\n"
     ]
    }
   ],
   "source": [
    "input_l = [] \n",
    "n = int(input(\"Enter number of elements : \"))  \n",
    "for i in range(0, n): \n",
    "    ele = input(\"enter a word \") \n",
    "    input_l.append(ele)\n",
    "input_n = int(input(\"enter the number \"))\n",
    "print (\"\\nthe list required is \" + str( filter_long_words(input_l,input_n)))\n"
   ]
  },
  {
   "cell_type": "code",
   "execution_count": null,
   "metadata": {},
   "outputs": [],
   "source": []
  }
 ],
 "metadata": {
  "kernelspec": {
   "display_name": "Python 3",
   "language": "python",
   "name": "python3"
  },
  "language_info": {
   "codemirror_mode": {
    "name": "ipython",
    "version": 3
   },
   "file_extension": ".py",
   "mimetype": "text/x-python",
   "name": "python",
   "nbconvert_exporter": "python",
   "pygments_lexer": "ipython3",
   "version": "3.7.6"
  }
 },
 "nbformat": 4,
 "nbformat_minor": 4
}
