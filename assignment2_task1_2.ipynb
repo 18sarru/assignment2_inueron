{
 "cells": [
  {
   "cell_type": "code",
   "execution_count": 3,
   "metadata": {},
   "outputs": [],
   "source": [
    "def myfilter(func, seq):\n",
    "    result = []\n",
    "    for i in seq:\n",
    "        if func(i):\n",
    "            result.append(i)\n",
    "    return result"
   ]
  },
  {
   "cell_type": "code",
   "execution_count": 4,
   "metadata": {},
   "outputs": [],
   "source": [
    "def ispositive(x):\n",
    "    if (x <= 0): \n",
    "        return False \n",
    "    else: \n",
    "        return True\n"
   ]
  },
  {
   "cell_type": "code",
   "execution_count": 6,
   "metadata": {},
   "outputs": [
    {
     "name": "stdout",
     "output_type": "stream",
     "text": [
      "enter number of elements 6\n",
      "enter a number 0\n",
      "enter a number 1\n",
      "enter a number 2\n",
      "enter a number 3\n",
      "enter a number -4\n",
      "enter a number 5\n",
      "Filter only positive Integers on the list using custom filter function[1, 2, 3, 5]\n"
     ]
    }
   ],
   "source": [
    "n=int(input(\"enter number of elements \"))\n",
    "l=[]\n",
    "for i in range(0,n):\n",
    "    ele=int(input(\"enter a number \"))\n",
    "    l.append(ele)\n",
    "print (\"Filter only positive Integers on the list using custom filter function\"  + str(myfilter(ispositive, l)))"
   ]
  },
  {
   "cell_type": "markdown",
   "metadata": {},
   "source": []
  }
 ],
 "metadata": {
  "kernelspec": {
   "display_name": "Python 3",
   "language": "python",
   "name": "python3"
  },
  "language_info": {
   "codemirror_mode": {
    "name": "ipython",
    "version": 3
   },
   "file_extension": ".py",
   "mimetype": "text/x-python",
   "name": "python",
   "nbconvert_exporter": "python",
   "pygments_lexer": "ipython3",
   "version": "3.7.6"
  }
 },
 "nbformat": 4,
 "nbformat_minor": 4
}
