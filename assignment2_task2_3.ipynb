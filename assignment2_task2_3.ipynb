{
 "cells": [
  {
   "cell_type": "code",
   "execution_count": 4,
   "metadata": {},
   "outputs": [],
   "source": [
    "def words2numbers(l):\n",
    "    x=[]\n",
    "    for i in l:\n",
    "        x.append(len(i))\n",
    "    print(x)"
   ]
  },
  {
   "cell_type": "code",
   "execution_count": 6,
   "metadata": {},
   "outputs": [
    {
     "name": "stdout",
     "output_type": "stream",
     "text": [
      "enter the number of words 6\n",
      "enter a word happy\n",
      "enter a word sad\n",
      "enter a word sleepy\n",
      "enter a word hungry\n",
      "enter a word success\n",
      "enter a word words\n",
      "[5, 3, 6, 6, 7, 5]\n"
     ]
    }
   ],
   "source": [
    "lst_words=[]\n",
    "no_words=int(input(\"enter the number of words \"))\n",
    "for i in range(0,no_words):\n",
    "    ele=input(\"enter a word \")\n",
    "    lst_words.append(ele)\n",
    "words2numbers(lst_words)"
   ]
  },
  {
   "cell_type": "code",
   "execution_count": null,
   "metadata": {},
   "outputs": [],
   "source": []
  }
 ],
 "metadata": {
  "kernelspec": {
   "display_name": "Python 3",
   "language": "python",
   "name": "python3"
  },
  "language_info": {
   "codemirror_mode": {
    "name": "ipython",
    "version": 3
   },
   "file_extension": ".py",
   "mimetype": "text/x-python",
   "name": "python",
   "nbconvert_exporter": "python",
   "pygments_lexer": "ipython3",
   "version": "3.7.6"
  }
 },
 "nbformat": 4,
 "nbformat_minor": 4
}
