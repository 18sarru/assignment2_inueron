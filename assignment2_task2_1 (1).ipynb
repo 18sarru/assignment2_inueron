{
 "cells": [
  {
   "cell_type": "code",
   "execution_count": 1,
   "metadata": {},
   "outputs": [],
   "source": [
    "def area_tri (a,b,c):\n",
    "    s=0\n",
    "    s=a+b+c\n",
    "    s=s/2\n",
    "    area=(s*(s-a)*(s-b)*(s-c))**0.5\n",
    "    return area\n"
   ]
  },
  {
   "cell_type": "code",
   "execution_count": 2,
   "metadata": {},
   "outputs": [
    {
     "name": "stdout",
     "output_type": "stream",
     "text": [
      "enter the length of a side 6\n",
      "enter the length of a side 6\n",
      "enter the length of a side 6\n",
      "15.588457268119896\n"
     ]
    }
   ],
   "source": [
    "a=int(input(\"enter the length of a side \"))\n",
    "b=int(input(\"enter the length of a side \"))\n",
    "c=int(input(\"enter the length of a side \"))\n",
    "print(area_tri(a,b,c))"
   ]
  },
  {
   "cell_type": "code",
   "execution_count": null,
   "metadata": {},
   "outputs": [],
   "source": []
  }
 ],
 "metadata": {
  "kernelspec": {
   "display_name": "Python 3",
   "language": "python",
   "name": "python3"
  },
  "language_info": {
   "codemirror_mode": {
    "name": "ipython",
    "version": 3
   },
   "file_extension": ".py",
   "mimetype": "text/x-python",
   "name": "python",
   "nbconvert_exporter": "python",
   "pygments_lexer": "ipython3",
   "version": "3.7.6"
  }
 },
 "nbformat": 4,
 "nbformat_minor": 4
}
