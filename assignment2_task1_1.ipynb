{
 "cells": [
  {
   "cell_type": "code",
   "execution_count": 15,
   "metadata": {},
   "outputs": [],
   "source": [
    "def myreduce(func, seq):\n",
    "    result = seq[0]\n",
    "    for item in seq[1:]:\n",
    "        result = func(result, item)\n",
    "    return result \n",
    "\n",
    "\n"
   ]
  },
  {
   "cell_type": "code",
   "execution_count": 16,
   "metadata": {},
   "outputs": [],
   "source": [
    "def sum1(x,y): \n",
    "    return x + y\n"
   ]
  },
  {
   "cell_type": "code",
   "execution_count": 17,
   "metadata": {},
   "outputs": [
    {
     "name": "stdout",
     "output_type": "stream",
     "text": [
      "enter number of elements 5\n",
      "enter a number 1\n",
      "enter a number 2\n",
      "enter a number 3\n",
      "enter a number 4\n",
      "enter a number 5\n",
      "Sum on list using myreduce function 15\n"
     ]
    }
   ],
   "source": [
    "n=int(input(\"enter number of elements \"))\n",
    "lst=[]\n",
    "for i in range(0,n):\n",
    "    ele=int(input(\"enter a number \"))\n",
    "    lst.append(ele)\n",
    "print (\"Sum on list using myreduce function \"   + str(myreduce(sum1, lst )) )"
   ]
  },
  {
   "cell_type": "code",
   "execution_count": null,
   "metadata": {},
   "outputs": [],
   "source": []
  }
 ],
 "metadata": {
  "kernelspec": {
   "display_name": "Python 3",
   "language": "python",
   "name": "python3"
  },
  "language_info": {
   "codemirror_mode": {
    "name": "ipython",
    "version": 3
   },
   "file_extension": ".py",
   "mimetype": "text/x-python",
   "name": "python",
   "nbconvert_exporter": "python",
   "pygments_lexer": "ipython3",
   "version": "3.7.6"
  }
 },
 "nbformat": 4,
 "nbformat_minor": 4
}
